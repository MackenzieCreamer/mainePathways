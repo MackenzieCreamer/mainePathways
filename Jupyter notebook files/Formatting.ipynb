{
 "cells": [
  {
   "cell_type": "markdown",
   "id": "92807d9a-a92a-47ec-8867-6c25bf6939a9",
   "metadata": {},
   "source": [
    "# Full breakdown for the creation of the possiblePrograms.csv element spreadsheet that's necessary for dropdown menus"
   ]
  },
  {
   "cell_type": "markdown",
   "id": "0f27df0c-e7af-42ee-9d5e-fa070a8bcad4",
   "metadata": {},
   "source": [
    "Import statements necessary to run program. If any of them aren't present, use the \\<library\\> name in the error message and put in \"pip install \\<library\\>\" or look up installation instructions on installing that specific library."
   ]
  },
  {
   "cell_type": "code",
   "execution_count": 32,
   "id": "cadb21e7",
   "metadata": {},
   "outputs": [],
   "source": [
    "import pandas as pd\n",
    "import os\n",
    "import geocoder\n",
    "import numpy as np\n",
    "import csv\n",
    "import re\n",
    "# url = 'https://nominatim.openstreetmap.org/search?country=DE&city=Erlangen&postalcode=91052&street=N%C3%BCrnberger+Stra%C3%9Fe+7&format=json&limit=1'\n",
    "\n",
    "# resp = http.request('GET', url)"
   ]
  },
  {
   "cell_type": "markdown",
   "id": "c46da943-a3e5-4abc-a106-ee6871440460",
   "metadata": {},
   "source": [
    "Here we use the file that has been most recently populated which contains all the institutions (naming scheme outdated). At the time of this program's writing, that was a copied file called \"simplifiedSchools(4-17-24).csv\""
   ]
  },
  {
   "cell_type": "code",
   "execution_count": 25,
   "id": "a7835859",
   "metadata": {},
   "outputs": [],
   "source": [
    "fileLoc = os.getcwd()+\"\\\\simplifiedSchools(4-17-24).csv\""
   ]
  },
  {
   "cell_type": "markdown",
   "id": "45fb559a-929a-40d1-b989-1a97ff0fe20c",
   "metadata": {},
   "source": [
    "He're, we're opening the file at its above location and using a specific encoding relevant to the CSV file that we selected. All entries are of the string datatype, and we want to indicate that the header is the first row of the document."
   ]
  },
  {
   "cell_type": "code",
   "execution_count": 26,
   "id": "51f48204",
   "metadata": {},
   "outputs": [],
   "source": [
    "df = pd.read_csv(fileLoc,header=0,dtype=str,encoding='cp1252')"
   ]
  },
  {
   "cell_type": "markdown",
   "id": "1695f45e-681e-4cf4-b138-52ba85ae6d44",
   "metadata": {},
   "source": [
    "Minor thing here to replace spaces with underscores for easier interacations with the code itself (less issues that way)"
   ]
  },
  {
   "cell_type": "code",
   "execution_count": 27,
   "id": "18528189",
   "metadata": {},
   "outputs": [],
   "source": [
    "df.columns = [c.replace(' ', '_') for c in df.columns]"
   ]
  },
  {
   "cell_type": "markdown",
   "id": "bcb4c8ab-7287-46d2-af51-d58c74d31dc1",
   "metadata": {},
   "source": [
    "Here, we establish the different institution types that have associated programs. Not all institutions have special programs for each school, hence why they aren't listed."
   ]
  },
  {
   "cell_type": "code",
   "execution_count": 28,
   "id": "ade234d5-d7ce-45f6-abd9-4390fad0a64e",
   "metadata": {},
   "outputs": [],
   "source": [
    "types = [\"High School\",\"CTE\",\"Community College\",\"University/Colleges\",\"Graduate\",\"Company\"]"
   ]
  },
  {
   "cell_type": "markdown",
   "id": "d711dca1-c27b-42b4-949a-a5a724b5451e",
   "metadata": {},
   "source": [
    "Once we have the institution types, we go through the entire csv in the form of a dataframe and look at each type individually. We create a full list of programs for each type in this section and then sort those lists after making sure all elements in them are unique."
   ]
  },
  {
   "cell_type": "code",
   "execution_count": 40,
   "id": "004756e5-6207-497a-9b43-47eea43c27f8",
   "metadata": {},
   "outputs": [],
   "source": [
    "dictionary = {}\n",
    "for institutionType in types:\n",
    "    if institutionType != \"Company\":\n",
    "        institution = df[(df[\"Institution_Type\"] == institutionType) & ~(df[\"Programs\"].isnull())][\"Programs\"].values\n",
    "        newInstitution = []\n",
    "        for i, element in enumerate(institution):\n",
    "            elementList = []\n",
    "            for newThing in element.split(\",\"):\n",
    "                if(newThing != \"\"):\n",
    "                    elementList.append(newThing)\n",
    "            \n",
    "            newInstitution.append(elementList)\n",
    "        institution = newInstitution\n",
    "        newInstitution = []\n",
    "        for i, element in enumerate(institution):\n",
    "            newInstitution = np.concatenate((newInstitution,element))\n",
    "        for i, element in enumerate(newInstitution):\n",
    "            newInstitution[i] = element.strip()\n",
    "        institPrograms = sorted(list(set(newInstitution)))\n",
    "        dictionary[institutionType] = institPrograms\n",
    "    else:\n",
    "        institution = df[(df[\"Institution_Type\"] == institutionType) & ~(df[\"Programs\"].isnull())][\"Programs\"].values\n",
    "        elementList = []\n",
    "        for i, element in enumerate(institution):\n",
    "            newElement = re.findall( r'[0-9]{6}', element)\n",
    "            for newThing in newElement:\n",
    "                if(newThing != \"\"):\n",
    "                    elementList.append(newThing)\n",
    "        institution = elementList\n",
    "        institPrograms = sorted(list(set(institution)))\n",
    "        dictionary[institutionType] = institPrograms"
   ]
  },
  {
   "cell_type": "markdown",
   "id": "7f922a43-54bb-4a54-97c7-e7e15627cc18",
   "metadata": {},
   "source": [
    "Everything is in a dictionary with its associated institution type, but in order to be properly formatted for Javascript, it needs a header, so we create a new dictionary with two separate keys, one for types and one for programs."
   ]
  },
  {
   "cell_type": "code",
   "execution_count": 42,
   "id": "0f37ac30-f978-4fdf-8658-3b375e0b5dd5",
   "metadata": {},
   "outputs": [],
   "source": [
    "dictionary = {\"types\" : dictionary.keys(), \"programs\" : dictionary.values()}"
   ]
  },
  {
   "cell_type": "markdown",
   "id": "db93ea4d-1552-4a11-8d17-9c4d7f9183e1",
   "metadata": {},
   "source": [
    "We now create a new dataframe from this dictionary so we can export it, we specify index \"false\" so it doesn't include an additional column for unnecessary indices associated with each of the type/program combinations. It doesn't hurt to have it, but its not necessary."
   ]
  },
  {
   "cell_type": "code",
   "execution_count": 43,
   "id": "ff8c084c-856c-4612-83fb-f11e4778fdd7",
   "metadata": {},
   "outputs": [],
   "source": [
    "dataframe = pd.DataFrame.from_dict(dictionary)\n",
    "dataframe.to_csv(os.getcwd()+\"\\\\possiblePrograms.csv\", index=False)"
   ]
  }
 ],
 "metadata": {
  "kernelspec": {
   "display_name": "Python 3 (ipykernel)",
   "language": "python",
   "name": "python3"
  },
  "language_info": {
   "codemirror_mode": {
    "name": "ipython",
    "version": 3
   },
   "file_extension": ".py",
   "mimetype": "text/x-python",
   "name": "python",
   "nbconvert_exporter": "python",
   "pygments_lexer": "ipython3",
   "version": "3.12.2"
  }
 },
 "nbformat": 4,
 "nbformat_minor": 5
}
